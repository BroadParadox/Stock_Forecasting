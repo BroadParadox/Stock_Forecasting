{
  "nbformat": 4,
  "nbformat_minor": 0,
  "metadata": {
    "colab": {
      "provenance": []
    },
    "kernelspec": {
      "name": "python3",
      "display_name": "Python 3"
    },
    "language_info": {
      "name": "python"
    }
  },
  "cells": [
    {
      "cell_type": "code",
      "execution_count": 1,
      "metadata": {
        "id": "CNS0cNSoBG9b"
      },
      "outputs": [],
      "source": [
        "# Import libraries\n",
        "import yfinance as yf\n",
        "import numpy as np\n",
        "from sklearn.ensemble import RandomForestClassifier\n",
        "import pandas as pd"
      ]
    },
    {
      "cell_type": "code",
      "source": [
        "from google.colab import drive\n",
        "drive.mount('/content/drive')"
      ],
      "metadata": {
        "colab": {
          "base_uri": "https://localhost:8080/"
        },
        "id": "nK1fb85gBlOJ",
        "outputId": "37c7e0db-cbf1-40bd-83e3-222b13b11ef3"
      },
      "execution_count": 2,
      "outputs": [
        {
          "output_type": "stream",
          "name": "stdout",
          "text": [
            "Mounted at /content/drive\n"
          ]
        }
      ]
    },
    {
      "cell_type": "code",
      "source": [
        "import pandas as pd\n",
        "\n",
        "data = pd.read_csv('/content/drive/MyDrive/Stock_Price_Prediction/data/TATASTEEL.csv')\n",
        "\n",
        "data = data[['Date', 'Open', 'High', 'Low', 'Close', 'VWAP', 'Volume']]\n",
        "\n",
        "data"
      ],
      "metadata": {
        "colab": {
          "base_uri": "https://localhost:8080/",
          "height": 423
        },
        "id": "0hGNuzJYBhn5",
        "outputId": "d82992a8-a8ed-4cde-b79c-6c4ffca1ad92"
      },
      "execution_count": 6,
      "outputs": [
        {
          "output_type": "execute_result",
          "data": {
            "text/plain": [
              "            Date     Open     High      Low    Close     VWAP    Volume\n",
              "0     2000-01-03   148.00   153.20   146.10   152.45   150.92   2003185\n",
              "1     2000-01-04   150.10   153.00   143.05   150.80   151.03   1555136\n",
              "2     2000-01-05   144.60   162.90   144.60   156.55   156.85   3840284\n",
              "3     2000-01-06   158.95   169.10   158.95   168.25   167.61   2560449\n",
              "4     2000-01-07   173.40   179.00   166.30   171.95   173.89   3641691\n",
              "...          ...      ...      ...      ...      ...      ...       ...\n",
              "5301  2021-04-26   935.00   956.00   930.05   940.75   942.98  21234858\n",
              "5302  2021-04-27   948.30   983.00   944.30   977.75   965.43  24904515\n",
              "5303  2021-04-28   985.00   986.00   962.00   971.40   972.08  20447968\n",
              "5304  2021-04-29   983.00  1036.95   983.00  1031.35  1015.76  44718647\n",
              "5305  2021-04-30  1024.00  1052.60  1011.10  1034.00  1031.95  28129738\n",
              "\n",
              "[5306 rows x 7 columns]"
            ],
            "text/html": [
              "\n",
              "  <div id=\"df-4d84bca8-b7e9-41fc-8638-00fecdc3da77\" class=\"colab-df-container\">\n",
              "    <div>\n",
              "<style scoped>\n",
              "    .dataframe tbody tr th:only-of-type {\n",
              "        vertical-align: middle;\n",
              "    }\n",
              "\n",
              "    .dataframe tbody tr th {\n",
              "        vertical-align: top;\n",
              "    }\n",
              "\n",
              "    .dataframe thead th {\n",
              "        text-align: right;\n",
              "    }\n",
              "</style>\n",
              "<table border=\"1\" class=\"dataframe\">\n",
              "  <thead>\n",
              "    <tr style=\"text-align: right;\">\n",
              "      <th></th>\n",
              "      <th>Date</th>\n",
              "      <th>Open</th>\n",
              "      <th>High</th>\n",
              "      <th>Low</th>\n",
              "      <th>Close</th>\n",
              "      <th>VWAP</th>\n",
              "      <th>Volume</th>\n",
              "    </tr>\n",
              "  </thead>\n",
              "  <tbody>\n",
              "    <tr>\n",
              "      <th>0</th>\n",
              "      <td>2000-01-03</td>\n",
              "      <td>148.00</td>\n",
              "      <td>153.20</td>\n",
              "      <td>146.10</td>\n",
              "      <td>152.45</td>\n",
              "      <td>150.92</td>\n",
              "      <td>2003185</td>\n",
              "    </tr>\n",
              "    <tr>\n",
              "      <th>1</th>\n",
              "      <td>2000-01-04</td>\n",
              "      <td>150.10</td>\n",
              "      <td>153.00</td>\n",
              "      <td>143.05</td>\n",
              "      <td>150.80</td>\n",
              "      <td>151.03</td>\n",
              "      <td>1555136</td>\n",
              "    </tr>\n",
              "    <tr>\n",
              "      <th>2</th>\n",
              "      <td>2000-01-05</td>\n",
              "      <td>144.60</td>\n",
              "      <td>162.90</td>\n",
              "      <td>144.60</td>\n",
              "      <td>156.55</td>\n",
              "      <td>156.85</td>\n",
              "      <td>3840284</td>\n",
              "    </tr>\n",
              "    <tr>\n",
              "      <th>3</th>\n",
              "      <td>2000-01-06</td>\n",
              "      <td>158.95</td>\n",
              "      <td>169.10</td>\n",
              "      <td>158.95</td>\n",
              "      <td>168.25</td>\n",
              "      <td>167.61</td>\n",
              "      <td>2560449</td>\n",
              "    </tr>\n",
              "    <tr>\n",
              "      <th>4</th>\n",
              "      <td>2000-01-07</td>\n",
              "      <td>173.40</td>\n",
              "      <td>179.00</td>\n",
              "      <td>166.30</td>\n",
              "      <td>171.95</td>\n",
              "      <td>173.89</td>\n",
              "      <td>3641691</td>\n",
              "    </tr>\n",
              "    <tr>\n",
              "      <th>...</th>\n",
              "      <td>...</td>\n",
              "      <td>...</td>\n",
              "      <td>...</td>\n",
              "      <td>...</td>\n",
              "      <td>...</td>\n",
              "      <td>...</td>\n",
              "      <td>...</td>\n",
              "    </tr>\n",
              "    <tr>\n",
              "      <th>5301</th>\n",
              "      <td>2021-04-26</td>\n",
              "      <td>935.00</td>\n",
              "      <td>956.00</td>\n",
              "      <td>930.05</td>\n",
              "      <td>940.75</td>\n",
              "      <td>942.98</td>\n",
              "      <td>21234858</td>\n",
              "    </tr>\n",
              "    <tr>\n",
              "      <th>5302</th>\n",
              "      <td>2021-04-27</td>\n",
              "      <td>948.30</td>\n",
              "      <td>983.00</td>\n",
              "      <td>944.30</td>\n",
              "      <td>977.75</td>\n",
              "      <td>965.43</td>\n",
              "      <td>24904515</td>\n",
              "    </tr>\n",
              "    <tr>\n",
              "      <th>5303</th>\n",
              "      <td>2021-04-28</td>\n",
              "      <td>985.00</td>\n",
              "      <td>986.00</td>\n",
              "      <td>962.00</td>\n",
              "      <td>971.40</td>\n",
              "      <td>972.08</td>\n",
              "      <td>20447968</td>\n",
              "    </tr>\n",
              "    <tr>\n",
              "      <th>5304</th>\n",
              "      <td>2021-04-29</td>\n",
              "      <td>983.00</td>\n",
              "      <td>1036.95</td>\n",
              "      <td>983.00</td>\n",
              "      <td>1031.35</td>\n",
              "      <td>1015.76</td>\n",
              "      <td>44718647</td>\n",
              "    </tr>\n",
              "    <tr>\n",
              "      <th>5305</th>\n",
              "      <td>2021-04-30</td>\n",
              "      <td>1024.00</td>\n",
              "      <td>1052.60</td>\n",
              "      <td>1011.10</td>\n",
              "      <td>1034.00</td>\n",
              "      <td>1031.95</td>\n",
              "      <td>28129738</td>\n",
              "    </tr>\n",
              "  </tbody>\n",
              "</table>\n",
              "<p>5306 rows × 7 columns</p>\n",
              "</div>\n",
              "    <div class=\"colab-df-buttons\">\n",
              "\n",
              "  <div class=\"colab-df-container\">\n",
              "    <button class=\"colab-df-convert\" onclick=\"convertToInteractive('df-4d84bca8-b7e9-41fc-8638-00fecdc3da77')\"\n",
              "            title=\"Convert this dataframe to an interactive table.\"\n",
              "            style=\"display:none;\">\n",
              "\n",
              "  <svg xmlns=\"http://www.w3.org/2000/svg\" height=\"24px\" viewBox=\"0 -960 960 960\">\n",
              "    <path d=\"M120-120v-720h720v720H120Zm60-500h600v-160H180v160Zm220 220h160v-160H400v160Zm0 220h160v-160H400v160ZM180-400h160v-160H180v160Zm440 0h160v-160H620v160ZM180-180h160v-160H180v160Zm440 0h160v-160H620v160Z\"/>\n",
              "  </svg>\n",
              "    </button>\n",
              "\n",
              "  <style>\n",
              "    .colab-df-container {\n",
              "      display:flex;\n",
              "      gap: 12px;\n",
              "    }\n",
              "\n",
              "    .colab-df-convert {\n",
              "      background-color: #E8F0FE;\n",
              "      border: none;\n",
              "      border-radius: 50%;\n",
              "      cursor: pointer;\n",
              "      display: none;\n",
              "      fill: #1967D2;\n",
              "      height: 32px;\n",
              "      padding: 0 0 0 0;\n",
              "      width: 32px;\n",
              "    }\n",
              "\n",
              "    .colab-df-convert:hover {\n",
              "      background-color: #E2EBFA;\n",
              "      box-shadow: 0px 1px 2px rgba(60, 64, 67, 0.3), 0px 1px 3px 1px rgba(60, 64, 67, 0.15);\n",
              "      fill: #174EA6;\n",
              "    }\n",
              "\n",
              "    .colab-df-buttons div {\n",
              "      margin-bottom: 4px;\n",
              "    }\n",
              "\n",
              "    [theme=dark] .colab-df-convert {\n",
              "      background-color: #3B4455;\n",
              "      fill: #D2E3FC;\n",
              "    }\n",
              "\n",
              "    [theme=dark] .colab-df-convert:hover {\n",
              "      background-color: #434B5C;\n",
              "      box-shadow: 0px 1px 3px 1px rgba(0, 0, 0, 0.15);\n",
              "      filter: drop-shadow(0px 1px 2px rgba(0, 0, 0, 0.3));\n",
              "      fill: #FFFFFF;\n",
              "    }\n",
              "  </style>\n",
              "\n",
              "    <script>\n",
              "      const buttonEl =\n",
              "        document.querySelector('#df-4d84bca8-b7e9-41fc-8638-00fecdc3da77 button.colab-df-convert');\n",
              "      buttonEl.style.display =\n",
              "        google.colab.kernel.accessAllowed ? 'block' : 'none';\n",
              "\n",
              "      async function convertToInteractive(key) {\n",
              "        const element = document.querySelector('#df-4d84bca8-b7e9-41fc-8638-00fecdc3da77');\n",
              "        const dataTable =\n",
              "          await google.colab.kernel.invokeFunction('convertToInteractive',\n",
              "                                                    [key], {});\n",
              "        if (!dataTable) return;\n",
              "\n",
              "        const docLinkHtml = 'Like what you see? Visit the ' +\n",
              "          '<a target=\"_blank\" href=https://colab.research.google.com/notebooks/data_table.ipynb>data table notebook</a>'\n",
              "          + ' to learn more about interactive tables.';\n",
              "        element.innerHTML = '';\n",
              "        dataTable['output_type'] = 'display_data';\n",
              "        await google.colab.output.renderOutput(dataTable, element);\n",
              "        const docLink = document.createElement('div');\n",
              "        docLink.innerHTML = docLinkHtml;\n",
              "        element.appendChild(docLink);\n",
              "      }\n",
              "    </script>\n",
              "  </div>\n",
              "\n",
              "\n",
              "<div id=\"df-fb30afd2-b06c-4de4-b9a8-c7d41c2eb02b\">\n",
              "  <button class=\"colab-df-quickchart\" onclick=\"quickchart('df-fb30afd2-b06c-4de4-b9a8-c7d41c2eb02b')\"\n",
              "            title=\"Suggest charts.\"\n",
              "            style=\"display:none;\">\n",
              "\n",
              "<svg xmlns=\"http://www.w3.org/2000/svg\" height=\"24px\"viewBox=\"0 0 24 24\"\n",
              "     width=\"24px\">\n",
              "    <g>\n",
              "        <path d=\"M19 3H5c-1.1 0-2 .9-2 2v14c0 1.1.9 2 2 2h14c1.1 0 2-.9 2-2V5c0-1.1-.9-2-2-2zM9 17H7v-7h2v7zm4 0h-2V7h2v10zm4 0h-2v-4h2v4z\"/>\n",
              "    </g>\n",
              "</svg>\n",
              "  </button>\n",
              "\n",
              "<style>\n",
              "  .colab-df-quickchart {\n",
              "    background-color: #E8F0FE;\n",
              "    border: none;\n",
              "    border-radius: 50%;\n",
              "    cursor: pointer;\n",
              "    display: none;\n",
              "    fill: #1967D2;\n",
              "    height: 32px;\n",
              "    padding: 0 0 0 0;\n",
              "    width: 32px;\n",
              "  }\n",
              "\n",
              "  .colab-df-quickchart:hover {\n",
              "    background-color: #E2EBFA;\n",
              "    box-shadow: 0px 1px 2px rgba(60, 64, 67, 0.3), 0px 1px 3px 1px rgba(60, 64, 67, 0.15);\n",
              "    fill: #174EA6;\n",
              "  }\n",
              "\n",
              "  [theme=dark] .colab-df-quickchart {\n",
              "    background-color: #3B4455;\n",
              "    fill: #D2E3FC;\n",
              "  }\n",
              "\n",
              "  [theme=dark] .colab-df-quickchart:hover {\n",
              "    background-color: #434B5C;\n",
              "    box-shadow: 0px 1px 3px 1px rgba(0, 0, 0, 0.15);\n",
              "    filter: drop-shadow(0px 1px 2px rgba(0, 0, 0, 0.3));\n",
              "    fill: #FFFFFF;\n",
              "  }\n",
              "</style>\n",
              "\n",
              "  <script>\n",
              "    async function quickchart(key) {\n",
              "      const charts = await google.colab.kernel.invokeFunction(\n",
              "          'suggestCharts', [key], {});\n",
              "    }\n",
              "    (() => {\n",
              "      let quickchartButtonEl =\n",
              "        document.querySelector('#df-fb30afd2-b06c-4de4-b9a8-c7d41c2eb02b button');\n",
              "      quickchartButtonEl.style.display =\n",
              "        google.colab.kernel.accessAllowed ? 'block' : 'none';\n",
              "    })();\n",
              "  </script>\n",
              "</div>\n",
              "    </div>\n",
              "  </div>\n"
            ]
          },
          "metadata": {},
          "execution_count": 6
        }
      ]
    },
    {
      "cell_type": "code",
      "source": [
        "# Features construction\n",
        "data['Open-Close'] = (data.Open - data.Close)/data.Open\n",
        "data['High-Low'] = (data.High - data.Low)/data.Low\n",
        "data['percent_change'] = data['VWAP'].pct_change()\n",
        "data['std_5'] = data['percent_change'].rolling(5).std()\n",
        "data['ret_5'] = data['percent_change'].rolling(5).mean()\n",
        "data.dropna(inplace=True)\n",
        "\n",
        "# X is the input variable\n",
        "X = data[['Open-Close', 'High-Low', 'std_5', 'ret_5']]\n",
        "\n",
        "# Y is the target or output variable\n",
        "y = np.where(data['VWAP'].shift(-1) > data['VWAP'], 1, -1)"
      ],
      "metadata": {
        "id": "ULbLxW9cBjMQ"
      },
      "execution_count": 7,
      "outputs": []
    },
    {
      "cell_type": "code",
      "source": [
        "# Total dataset length\n",
        "dataset_length = data.shape[0]\n",
        "\n",
        "# Training dataset length\n",
        "split = int(dataset_length * 0.75)\n",
        "split"
      ],
      "metadata": {
        "colab": {
          "base_uri": "https://localhost:8080/"
        },
        "id": "XJ7sLEExB54x",
        "outputId": "116daf4b-0c76-4d3d-d01a-2eff5f18cf31"
      },
      "execution_count": 8,
      "outputs": [
        {
          "output_type": "execute_result",
          "data": {
            "text/plain": [
              "3975"
            ]
          },
          "metadata": {},
          "execution_count": 8
        }
      ]
    },
    {
      "cell_type": "code",
      "source": [
        "# Splitiing the X and y into train and test datasets\n",
        "X_train, X_test = X[:split], X[split:]\n",
        "y_train, y_test = y[:split], y[split:]\n",
        "\n",
        "# Print the size of the train and test dataset\n",
        "print(X_train.shape, X_test.shape)\n",
        "print(y_train.shape, y_test.shape)"
      ],
      "metadata": {
        "colab": {
          "base_uri": "https://localhost:8080/"
        },
        "id": "SLOwg09xCJUV",
        "outputId": "4f3d9b5a-66d1-4f16-aade-609841d8f1a7"
      },
      "execution_count": 9,
      "outputs": [
        {
          "output_type": "stream",
          "name": "stdout",
          "text": [
            "(3975, 4) (1326, 4)\n",
            "(3975,) (1326,)\n"
          ]
        }
      ]
    },
    {
      "cell_type": "code",
      "source": [
        "# Create the model on train dataset\n",
        "clf = RandomForestClassifier()\n",
        "model = clf.fit(X_train, y_train)\n",
        "from sklearn.metrics import accuracy_score\n",
        "print('Correct Prediction (%): ', accuracy_score(y_test, model.predict(X_test), normalize=True)*100.0)\n",
        "\n",
        "# Run the code to view the classification report metrics\n",
        "from sklearn.metrics import classification_report\n",
        "report = classification_report(y_test, model.predict(X_test))\n",
        "print(report)"
      ],
      "metadata": {
        "colab": {
          "base_uri": "https://localhost:8080/"
        },
        "id": "ijFu_y_wCLCc",
        "outputId": "afe67344-9c0b-45e8-cc01-afc958126bf2"
      },
      "execution_count": 10,
      "outputs": [
        {
          "output_type": "stream",
          "name": "stdout",
          "text": [
            "Correct Prediction (%):  62.06636500754148\n",
            "              precision    recall  f1-score   support\n",
            "\n",
            "          -1       0.60      0.60      0.60       630\n",
            "           1       0.64      0.64      0.64       696\n",
            "\n",
            "    accuracy                           0.62      1326\n",
            "   macro avg       0.62      0.62      0.62      1326\n",
            "weighted avg       0.62      0.62      0.62      1326\n",
            "\n"
          ]
        }
      ]
    },
    {
      "cell_type": "code",
      "source": [],
      "metadata": {
        "id": "iLlmRHajCM1c"
      },
      "execution_count": 10,
      "outputs": []
    }
  ]
}